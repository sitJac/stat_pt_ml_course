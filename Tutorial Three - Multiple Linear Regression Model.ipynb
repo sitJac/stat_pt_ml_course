{
 "cells": [
  {
   "cell_type": "markdown",
   "id": "decc7591",
   "metadata": {},
   "source": [
    "# Tutorial Three : Multiple Linear Regression Model\n",
    "\n",
    "## 实验前的准备\n",
    "本次实验我们载入一些Python的安装包，如下："
   ]
  },
  {
   "cell_type": "code",
   "execution_count": 1,
   "id": "ed8b307c",
   "metadata": {},
   "outputs": [],
   "source": [
    "import os # 修改工作目录\n",
    "\n",
    "import numpy as np\n",
    "import pandas as pd\n",
    "import scipy.stats as stats\n",
    "import matplotlib.pyplot as plt\n",
    "from sklearn.linear_model import LinearRegression\n",
    "from jupyterquiz import display_quiz\n",
    "\n",
    "import statsmodels.api as sm\n",
    "from statsmodels.formula.api import ols\n",
    "from statsmodels.stats.anova import anova_lm\n",
    "from scipy.stats import f\n",
    "from scipy.stats import t\n",
    "\n",
    "from sklearn import datasets, linear_model\n",
    "from sklearn.metrics import mean_squared_error, r2_score\n",
    "from sklearn import preprocessing"
   ]
  },
  {
   "cell_type": "markdown",
   "id": "152f3a0e",
   "metadata": {},
   "source": [
    "设置数据目录，如下："
   ]
  },
  {
   "cell_type": "code",
   "execution_count": 2,
   "id": "e220edf6",
   "metadata": {},
   "outputs": [],
   "source": [
    "os.chdir(\"/Users/lyuni/ECNU_DaSE/Courses/Stat_ML/Experiment/Data\")"
   ]
  },
  {
   "cell_type": "markdown",
   "id": "368f7d02",
   "metadata": {},
   "source": [
    "## 背景\n",
    "\n",
    "记录了一个班级22名学生在某门课程的两次预试成绩$X_1,X_2$和最后的期末成绩$Y$。\n",
    "\n",
    "## 数据\n",
    "\n",
    "数据集Data_3是我们本次使用的数据，具体形式如下所示。"
   ]
  },
  {
   "cell_type": "code",
   "execution_count": 3,
   "id": "28ceaaf2",
   "metadata": {},
   "outputs": [
    {
     "name": "stdout",
     "output_type": "stream",
     "text": [
      "Data 3 is shown as follows: \n",
      "     X1  X2   Y\n",
      "0   78  73  68\n",
      "1   74  76  75\n",
      "2   82  79  85\n",
      "3   90  96  94\n",
      "4   87  90  86\n",
      "5   90  92  90\n",
      "6   83  95  86\n",
      "7   72  69  68\n",
      "8   68  67  55\n",
      "9   69  70  69\n",
      "10  91  89  91\n",
      "11  79  75  75\n",
      "12  89  84  81\n",
      "13  93  97  91\n",
      "14  87  77  80\n",
      "15  91  96  94\n",
      "16  86  94  94\n",
      "17  91  92  97\n",
      "18  81  82  79\n",
      "19  80  83  84\n",
      "20  70  66  65\n",
      "21  79  81  83\n"
     ]
    }
   ],
   "source": [
    "print('Data 3 is shown as follows: \\n', pd.read_csv(\"Data_3.csv\"))"
   ]
  },
  {
   "cell_type": "markdown",
   "id": "ac39a6c2",
   "metadata": {},
   "source": [
    "在Data_3数据集中共有22名学生的三次考试成绩，包括：两次预试成绩和期末考试成绩。"
   ]
  },
  {
   "cell_type": "markdown",
   "id": "2405dc5b",
   "metadata": {},
   "source": [
    "## 任务\n",
    "\n",
    "在本次实验中，我们需要解决以下四个问题：\n",
    "\n",
    "1. 建立多元线性回归模型，描述前两次预试成绩和最后的期末成绩之间的关系。\n",
    "2. 将数据中心化后，再次拟合线性回归模型，比较与任务1.中的模型进行比较。\n",
    "3. 利用两次预试成绩来预测期末成绩是否合理？\n",
    "4. 倘若有两位同学——张三同学和李四同学，不在这22名学生之中。张三同学的前两次预试的成绩分别为88分和92分，李四的前两次预试的成绩分别为50分和60分，请给出他们的期末成绩的点预测和区间预测。\n",
    "\n",
    "注：本实验中的显著性水平为  𝛼=0.05 。"
   ]
  },
  {
   "cell_type": "markdown",
   "id": "50395dbb",
   "metadata": {},
   "source": [
    "## 解决方案\n",
    "\n",
    "### 参数设置"
   ]
  },
  {
   "cell_type": "code",
   "execution_count": 4,
   "id": "c9708f7b",
   "metadata": {},
   "outputs": [],
   "source": [
    "alpha = 0.05\n",
    "\n",
    "x01 = np.array([[88, 92]]) # 张三的成绩\n",
    "x02 = np.array([[50, 60]]) # 李四的成绩"
   ]
  },
  {
   "cell_type": "markdown",
   "id": "36a168c0",
   "metadata": {},
   "source": [
    "### 数据导入"
   ]
  },
  {
   "cell_type": "code",
   "execution_count": 5,
   "id": "3ba4e5ea",
   "metadata": {},
   "outputs": [
    {
     "name": "stdout",
     "output_type": "stream",
     "text": [
      "   X1  X2   Y\n",
      "0  78  73  68\n",
      "1  74  76  75\n",
      "2  82  79  85\n",
      "3  90  96  94\n",
      "4  87  90  86\n"
     ]
    }
   ],
   "source": [
    "Data = pd.read_csv(\"Data_3.csv\")\n",
    "print(Data.head())"
   ]
  },
  {
   "cell_type": "code",
   "execution_count": 6,
   "id": "c6e9e9d6",
   "metadata": {},
   "outputs": [
    {
     "name": "stdout",
     "output_type": "stream",
     "text": [
      "The number of instances is  22\n",
      "The number of features is  2\n"
     ]
    }
   ],
   "source": [
    "n = Data.shape[0]\n",
    "p = Data.shape[1] - 1\n",
    "print(\"The number of instances is \", n)\n",
    "print(\"The number of features is \", p)"
   ]
  },
  {
   "cell_type": "markdown",
   "id": "544d3482",
   "metadata": {},
   "source": [
    "### Task 1: 建立多元线性回归模型，描述前两次预试成绩和最后的期末成绩之间的关系\n",
    "\n",
    "多元线性回归模型形如\n",
    "$$\n",
    "y_i = \\beta_0 + \\beta_1 x_{i1} + \\beta_2 x_{i2} + \\epsilon_{i}, i=1,2,\\cdots,n\n",
    "$$\n",
    "其中，$\\beta_0,\\beta_1,\\beta_2$分别是未知参数，而$\\epsilon_{i}$是误差项，且满足$E(\\epsilon_{i}) = 0$和$Var(\\epsilon_{i}) = \\sigma^2$。$n$表示样本量。\n",
    "\n",
    "我们可以用矩阵的形式来写这个模型，即\n",
    "$$\n",
    "\\mathbf{y} = \\mathbf{X}\\mathbf{\\beta} + \\mathbf{\\epsilon}\n",
    "$$\n",
    "其中，\n",
    "- 响应变量构成的向量为$$\n",
    "\\mathbf{y} = \\begin{pmatrix}y_1\\\\y_2\\\\\\vdots\\\\ y_n\\end{pmatrix},\n",
    "$$\n",
    "- 自变量/特征构成的矩阵$$\n",
    "\\mathbf{X} = \\begin{pmatrix}\n",
    "1 & x_{11} & x_{12} \\\\\n",
    "1 & x_{21} & x_{22} \\\\\n",
    "\\vdots & \\vdots & \\vdots \\\\\n",
    "1 & x_{n1} & x_{n2} \\\\\n",
    "\\end{pmatrix},\n",
    "$$\n",
    "- 待估参数向量为\n",
    "$$\n",
    "\\mathbf{\\beta} = \\begin{pmatrix}\n",
    "\\beta_0 \\\\ \\beta_1 \\\\ \\beta_2\n",
    "\\end{pmatrix},\n",
    "$$\n",
    "- 误差向量为\n",
    "$$\n",
    "\\mathbf{\\epsilon} = \\begin{pmatrix}\\epsilon_1\\\\\\epsilon_2\\\\\\vdots\\\\ \\epsilon_n\\end{pmatrix}.\n",
    "$$\n"
   ]
  },
  {
   "cell_type": "markdown",
   "id": "f1a11d9e",
   "metadata": {},
   "source": [
    "已知参数向量的估计为\n",
    "$$\n",
    "\\hat{\\mathbf{\\beta}} = (\\mathbf{X}'\\mathbf{X})^{-1} \\mathbf{X}'\\mathbf{y}.\n",
    "$$"
   ]
  },
  {
   "cell_type": "code",
   "execution_count": 7,
   "id": "54a38e0e",
   "metadata": {},
   "outputs": [
    {
     "name": "stdout",
     "output_type": "stream",
     "text": [
      "The estimates of the parameters are \n",
      " [-14.5005   0.4883   0.672 ]\n"
     ]
    }
   ],
   "source": [
    "## Method 1: Matrix Calculus\n",
    "Data1 = sm.add_constant(Data)\n",
    "Data1_value = Data1.values\n",
    "X = Data1_value[:,0:(p+1)]\n",
    "y = Data1_value[:,-1]\n",
    "beta_hat_1 = np.linalg.inv(X.T @ X) @ (X.T @ y)\n",
    "# A @ B <=> np.dot(A,B) matrix multiply\n",
    "\n",
    "print(\"The estimates of the parameters are \\n\", \n",
    "      np.around(beta_hat_1,4))"
   ]
  },
  {
   "cell_type": "code",
   "execution_count": 8,
   "id": "b6b52474",
   "metadata": {},
   "outputs": [
    {
     "name": "stdout",
     "output_type": "stream",
     "text": [
      "The estimates of the parameters are \n",
      " Intercept   -14.5005\n",
      "X1            0.4883\n",
      "X2            0.6720\n",
      "dtype: float64\n"
     ]
    }
   ],
   "source": [
    "## Method 2: 「statsmodels」 package\n",
    "model1 = ols(\"Y~X1 + X2\",Data).fit()\n",
    "beta_hat_2 = model1.params\n",
    "#print(\"The estimates of the parameters are \\n\", \n",
    "#      round(model.param(),4))\n",
    "print(\"The estimates of the parameters are \\n\", \n",
    "      round(beta_hat_2,4))"
   ]
  },
  {
   "cell_type": "code",
   "execution_count": 9,
   "id": "00a5a836",
   "metadata": {},
   "outputs": [
    {
     "name": "stdout",
     "output_type": "stream",
     "text": [
      "The estimates of the parameters are \n",
      " [-14.5005   0.4883   0.672 ]\n"
     ]
    }
   ],
   "source": [
    "## Method 3: 「scikit-learn」package\n",
    "model2 = linear_model.LinearRegression()\n",
    "X_without_intercept = X[:,1:3]\n",
    "model2.fit(X_without_intercept, y)\n",
    "beta_hat_3 = np.append(np.array(model2.intercept_),model2.coef_)\n",
    "print(\"The estimates of the parameters are \\n\", \n",
    "      np.around(beta_hat_3,4))"
   ]
  },
  {
   "cell_type": "markdown",
   "id": "3de9f108",
   "metadata": {},
   "source": [
    "### Task 2: 将数据中心化后，再次拟合线性回归模型，比较与任务1.中的模型进行比较。"
   ]
  },
  {
   "cell_type": "code",
   "execution_count": 10,
   "id": "d5d73cbb",
   "metadata": {},
   "outputs": [
    {
     "name": "stdout",
     "output_type": "stream",
     "text": [
      "The sample means of centered features are  [0. 0.]\n",
      "The sample mean of centered response is  0.0\n"
     ]
    }
   ],
   "source": [
    "## 中心化\n",
    "X_center = preprocessing.scale(X_without_intercept, with_mean = True, with_std=False)\n",
    "y_center = preprocessing.scale(y, with_mean = True, with_std=False)\n",
    "# with_mean = True (default), with_std = True (default)\n",
    "\n",
    "# print(X_center) \n",
    "\n",
    "print(\"The sample means of centered features are \", np.around(np.mean(X_center,axis=0),4))\n",
    "print(\"The sample mean of centered response is \", np.around(np.mean(y_center,axis=0),4))"
   ]
  },
  {
   "cell_type": "code",
   "execution_count": 11,
   "id": "99b6f69d",
   "metadata": {},
   "outputs": [
    {
     "name": "stdout",
     "output_type": "stream",
     "text": [
      "The estimates of the parameters are \n",
      " [-0.      0.4883  0.672 ]\n"
     ]
    }
   ],
   "source": [
    "model3 = linear_model.LinearRegression()\n",
    "model3.fit(X_center, y_center)\n",
    "beta_hat_4 = np.append(np.array(model3.intercept_),model3.coef_)\n",
    "print(\"The estimates of the parameters are \\n\", \n",
    "      np.around(beta_hat_4,4))"
   ]
  },
  {
   "cell_type": "markdown",
   "id": "65ddc545",
   "metadata": {},
   "source": [
    "当然，同学们可以尝试采用其他方式得到回归模型中参数的估计。"
   ]
  },
  {
   "cell_type": "markdown",
   "id": "1ec321bd",
   "metadata": {},
   "source": [
    "### Task 3: 利用两次预试成绩来预测期末成绩是否合理？\n",
    "\n",
    "##### 第一步，我们需要检验回归模型是否显著。\n",
    "\n",
    "##### 第二步，我们需要检验各个回归参数是否显著。\n",
    "\n",
    "#### 随堂提问：我们该如何解决？\n"
   ]
  },
  {
   "cell_type": "code",
   "execution_count": 12,
   "id": "cc91a2a8",
   "metadata": {},
   "outputs": [
    {
     "data": {
      "text/html": [
       "<table class=\"simpletable\">\n",
       "<caption>OLS Regression Results</caption>\n",
       "<tr>\n",
       "  <th>Dep. Variable:</th>            <td>Y</td>        <th>  R-squared:         </th> <td>   0.886</td>\n",
       "</tr>\n",
       "<tr>\n",
       "  <th>Model:</th>                   <td>OLS</td>       <th>  Adj. R-squared:    </th> <td>   0.874</td>\n",
       "</tr>\n",
       "<tr>\n",
       "  <th>Method:</th>             <td>Least Squares</td>  <th>  F-statistic:       </th> <td>   74.07</td>\n",
       "</tr>\n",
       "<tr>\n",
       "  <th>Date:</th>             <td>Sat, 15 Oct 2022</td> <th>  Prob (F-statistic):</th> <td>1.07e-09</td>\n",
       "</tr>\n",
       "<tr>\n",
       "  <th>Time:</th>                 <td>15:37:42</td>     <th>  Log-Likelihood:    </th> <td> -59.840</td>\n",
       "</tr>\n",
       "<tr>\n",
       "  <th>No. Observations:</th>      <td>    22</td>      <th>  AIC:               </th> <td>   125.7</td>\n",
       "</tr>\n",
       "<tr>\n",
       "  <th>Df Residuals:</th>          <td>    19</td>      <th>  BIC:               </th> <td>   129.0</td>\n",
       "</tr>\n",
       "<tr>\n",
       "  <th>Df Model:</th>              <td>     2</td>      <th>                     </th>     <td> </td>   \n",
       "</tr>\n",
       "<tr>\n",
       "  <th>Covariance Type:</th>      <td>nonrobust</td>    <th>                     </th>     <td> </td>   \n",
       "</tr>\n",
       "</table>\n",
       "<table class=\"simpletable\">\n",
       "<tr>\n",
       "      <td></td>         <th>coef</th>     <th>std err</th>      <th>t</th>      <th>P>|t|</th>  <th>[0.025</th>    <th>0.975]</th>  \n",
       "</tr>\n",
       "<tr>\n",
       "  <th>Intercept</th> <td>  -14.5005</td> <td>    9.236</td> <td>   -1.570</td> <td> 0.133</td> <td>  -33.831</td> <td>    4.830</td>\n",
       "</tr>\n",
       "<tr>\n",
       "  <th>X1</th>        <td>    0.4883</td> <td>    0.233</td> <td>    2.096</td> <td> 0.050</td> <td>    0.001</td> <td>    0.976</td>\n",
       "</tr>\n",
       "<tr>\n",
       "  <th>X2</th>        <td>    0.6720</td> <td>    0.179</td> <td>    3.748</td> <td> 0.001</td> <td>    0.297</td> <td>    1.047</td>\n",
       "</tr>\n",
       "</table>\n",
       "<table class=\"simpletable\">\n",
       "<tr>\n",
       "  <th>Omnibus:</th>       <td> 0.910</td> <th>  Durbin-Watson:     </th> <td>   1.778</td>\n",
       "</tr>\n",
       "<tr>\n",
       "  <th>Prob(Omnibus):</th> <td> 0.634</td> <th>  Jarque-Bera (JB):  </th> <td>   0.703</td>\n",
       "</tr>\n",
       "<tr>\n",
       "  <th>Skew:</th>          <td>-0.410</td> <th>  Prob(JB):          </th> <td>   0.704</td>\n",
       "</tr>\n",
       "<tr>\n",
       "  <th>Kurtosis:</th>      <td> 2.696</td> <th>  Cond. No.          </th> <td>1.29e+03</td>\n",
       "</tr>\n",
       "</table><br/><br/>Notes:<br/>[1] Standard Errors assume that the covariance matrix of the errors is correctly specified.<br/>[2] The condition number is large, 1.29e+03. This might indicate that there are<br/>strong multicollinearity or other numerical problems."
      ],
      "text/plain": [
       "<class 'statsmodels.iolib.summary.Summary'>\n",
       "\"\"\"\n",
       "                            OLS Regression Results                            \n",
       "==============================================================================\n",
       "Dep. Variable:                      Y   R-squared:                       0.886\n",
       "Model:                            OLS   Adj. R-squared:                  0.874\n",
       "Method:                 Least Squares   F-statistic:                     74.07\n",
       "Date:                Sat, 15 Oct 2022   Prob (F-statistic):           1.07e-09\n",
       "Time:                        15:37:42   Log-Likelihood:                -59.840\n",
       "No. Observations:                  22   AIC:                             125.7\n",
       "Df Residuals:                      19   BIC:                             129.0\n",
       "Df Model:                           2                                         \n",
       "Covariance Type:            nonrobust                                         \n",
       "==============================================================================\n",
       "                 coef    std err          t      P>|t|      [0.025      0.975]\n",
       "------------------------------------------------------------------------------\n",
       "Intercept    -14.5005      9.236     -1.570      0.133     -33.831       4.830\n",
       "X1             0.4883      0.233      2.096      0.050       0.001       0.976\n",
       "X2             0.6720      0.179      3.748      0.001       0.297       1.047\n",
       "==============================================================================\n",
       "Omnibus:                        0.910   Durbin-Watson:                   1.778\n",
       "Prob(Omnibus):                  0.634   Jarque-Bera (JB):                0.703\n",
       "Skew:                          -0.410   Prob(JB):                        0.704\n",
       "Kurtosis:                       2.696   Cond. No.                     1.29e+03\n",
       "==============================================================================\n",
       "\n",
       "Notes:\n",
       "[1] Standard Errors assume that the covariance matrix of the errors is correctly specified.\n",
       "[2] The condition number is large, 1.29e+03. This might indicate that there are\n",
       "strong multicollinearity or other numerical problems.\n",
       "\"\"\""
      ]
     },
     "execution_count": 12,
     "metadata": {},
     "output_type": "execute_result"
    }
   ],
   "source": [
    "model1.summary()"
   ]
  },
  {
   "cell_type": "markdown",
   "id": "92ae5dca",
   "metadata": {},
   "source": [
    "从上表可知，\n",
    "- $F$检验统计量可以计算为74.07，其$p$值为$1.07\\times 10^{-9}$。因此，我们认为回归模型是有意义的。\n",
    "- 对于不同的特征，$t$检验统计量分别为$2.096$和$3.748$，其$p$值均不大于$0.05$。因此，我们认为这两个特征都是有意义的。\n",
    "\n",
    "#### 随堂提问：除了两个检验统计量之外，我们还能从上表中得到什么信息？"
   ]
  },
  {
   "cell_type": "markdown",
   "id": "54abc784",
   "metadata": {},
   "source": [
    "### Task 4: 预测\n",
    "\n",
    "我们可以先画一张图来看一下，用于训练模型的数据与用于测试的数据之间的关系。"
   ]
  },
  {
   "cell_type": "code",
   "execution_count": 17,
   "id": "f5027e16",
   "metadata": {},
   "outputs": [
    {
     "data": {
      "text/plain": [
       "Text(50.3, 63, 'S Li')"
      ]
     },
     "execution_count": 17,
     "metadata": {},
     "output_type": "execute_result"
    },
    {
     "data": {
      "image/png": "[encoded data removed]",
      "text/plain": [
       "<Figure size 432x288 with 1 Axes>"
      ]
     },
     "metadata": {
      "needs_background": "light"
     },
     "output_type": "display_data"
    }
   ],
   "source": [
    "plt.scatter(X[:,1],X[:,2],color = \"green\")\n",
    "plt.scatter(88, 92, color='orange', label=\"张三\")\n",
    "plt.scatter(50, 60, color='blue', label=\"李四\")\n",
    "\n",
    "plt.title('Plot of scores in two tests')\n",
    "plt.xlabel('Scores in Test 1')\n",
    "plt.ylabel('Scores in Test 2')\n",
    "plt.axis('square')\n",
    "plt.annotate(\"S Zhang\", (88+0., 92+1))\n",
    "plt.annotate(\"S Li\", (50+0.3, 62+1))"
   ]
  },
  {
   "cell_type": "markdown",
   "id": "b8fbbf47",
   "metadata": {},
   "source": [
    "接下来，在线性回归模型中，我们可以进行两种不同方式的预测。\n",
    "- 点预测\n",
    "$$\n",
    "\\hat{y}_0 = \\mathbf{x}_0' \\hat{\\mathcal{\\beta}}_0\n",
    "$$\n",
    "\n",
    "- 区间预测\n",
    "$$\n",
    "\\hat{y}_0 \\pm t_{1-\\alpha/2}(n-p-1) \\hat{\\sigma} \\sqrt{1+\\mathbf{x}_0' (\\mathbf{X}'\\mathbf{X})^{-1} \\mathbf{x}_0}\n",
    "$$\n",
    "其中，$\\hat{\\sigma}^2 = (n-p-1)^{-1}\\sum_{i=1}^n e_i^2$."
   ]
  },
  {
   "cell_type": "code",
   "execution_count": 18,
   "id": "1319fbfe",
   "metadata": {},
   "outputs": [],
   "source": [
    "## 自定义函数\n",
    "\n",
    "def prediction_interval(x0,X,y):\n",
    "    # Add intercept to the new vector\n",
    "    x0 = np.append(1,x0)\n",
    "    # Parameter setting\n",
    "    n = X.shape[0]\n",
    "    p = X.shape[1]-1\n",
    "    # Modelling\n",
    "    beta_hat = np.linalg.inv(X.T @ X) @ (X.T @ y) # parameter estimation\n",
    "    y_fitted = X @ beta_hat # fitted value\n",
    "    e = y_fitted - y # residuals\n",
    "    sigma2 = sum(e**2)/(n - p - 1) # estimate of sigma2\n",
    "    # Interval Construction\n",
    "    tVal = t.ppf(1-alpha/2, n- p - 1) # quantile\n",
    "    delta = tVal*np.sqrt(sigma2)*np.sqrt(1 + x0.T @ np.linalg.inv(X.T @ X) @ x0)\n",
    "    y0_fitted = x0 @ beta_hat\n",
    "    output = [y0_fitted - delta, y0_fitted + delta] # prediction interval\n",
    "    return output"
   ]
  },
  {
   "cell_type": "code",
   "execution_count": 21,
   "id": "f4c975e8",
   "metadata": {},
   "outputs": [
    {
     "name": "stdout",
     "output_type": "stream",
     "text": [
      "张三期末成绩的点预测为 [90.3004]\n",
      "张三期末成绩的区间预测为 [81.6881 98.9128]\n"
     ]
    }
   ],
   "source": [
    "##  张三的预测\n",
    "# 点预测\n",
    "print(\"张三期末成绩的点预测为\", np.around(model2.predict(x01),4))\n",
    "\n",
    "# 区间预测\n",
    "print(\"张三期末成绩的区间预测为\", np.around(prediction_interval(x01,X,y),4))"
   ]
  },
  {
   "cell_type": "code",
   "execution_count": 22,
   "id": "f9b7f35c",
   "metadata": {},
   "outputs": [
    {
     "name": "stdout",
     "output_type": "stream",
     "text": [
      "张三期末成绩的点预测为 [50.2385]\n",
      "张三期末成绩的区间预测为 [37.8255 62.6515]\n"
     ]
    }
   ],
   "source": [
    "##  张三的预测\n",
    "# 点预测\n",
    "print(\"张三期末成绩的点预测为\", np.around(model2.predict(x01),4))\n",
    "\n",
    "# 区间预测\n",
    "print(\"张三期末成绩的区间预测为\", np.around(prediction_interval(x01,X,y),4))"
   ]
  },
  {
   "cell_type": "markdown",
   "id": "feb14eef",
   "metadata": {},
   "source": [
    "#### 随堂提问\n",
    "\n",
    "##### Q1: 李四期末成绩的点预测为多少？\n",
    "##### Q2: 李四期末成绩的区间预测为多少？\n",
    "##### Q3: 通过比较张三和李四期末成绩的预测区间，你有什么结论？"
   ]
  }
 ],
 "metadata": {
  "kernelspec": {
   "display_name": "Python 3 (ipykernel)",
   "language": "python",
   "name": "python3"
  },
  "language_info": {
   "codemirror_mode": {
    "name": "ipython",
    "version": 3
   },
   "file_extension": ".py",
   "mimetype": "text/x-python",
   "name": "python",
   "nbconvert_exporter": "python",
   "pygments_lexer": "ipython3",
   "version": "3.8.5"
  }
 },
 "nbformat": 4,
 "nbformat_minor": 5
}
