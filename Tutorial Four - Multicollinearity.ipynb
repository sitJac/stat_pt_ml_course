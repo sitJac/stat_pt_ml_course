{
 "cells": [
  {
   "cell_type": "markdown",
   "id": "14b6a2e1",
   "metadata": {},
   "source": [
    "# Tutorial Four: Multicollinearity"
   ]
  },
  {
   "cell_type": "markdown",
   "id": "193de056",
   "metadata": {},
   "source": [
    "## 实验前的准备\n",
    "\n",
    "本次实验我们载入一些Python的安装包，如下："
   ]
  },
  {
   "cell_type": "code",
   "execution_count": 1,
   "id": "c27bb779",
   "metadata": {},
   "outputs": [],
   "source": [
    "from sklearn.datasets import load_diabetes\n",
    "\n",
    "import os\n",
    "\n",
    "import pandas as pd\n",
    "import numpy as np\n",
    "import random\n",
    "import seaborn as sns\n",
    "\n",
    "import scipy.stats as stats\n",
    "import matplotlib.pyplot as plt\n",
    "import math\n",
    "\n",
    "\n",
    "from itertools import combinations\n",
    "import statsmodels.api as sm\n",
    "from statsmodels.stats.outliers_influence import variance_inflation_factor\n",
    "from sklearn import linear_model  # 进行岭回归分析\n",
    "from sklearn import preprocessing\n"
   ]
  },
  {
   "cell_type": "markdown",
   "id": "0d5c727f",
   "metadata": {},
   "source": [
    "设置数据目录，如下："
   ]
  },
  {
   "cell_type": "code",
   "execution_count": 4,
   "id": "7682d917",
   "metadata": {},
   "outputs": [],
   "source": [
    "os.chdir(\"/Users/lyuni/ECNU_DaSE/Courses/Stat_ML/Experiment/Data\")"
   ]
  },
  {
   "cell_type": "markdown",
   "id": "12c4017d",
   "metadata": {},
   "source": [
    "在本次实验中，所使用的数据集是"
   ]
  },
  {
   "cell_type": "code",
   "execution_count": 5,
   "id": "d9acf7f1",
   "metadata": {},
   "outputs": [
    {
     "name": "stdout",
     "output_type": "stream",
     "text": [
      "   AtBat  Hits  HmRun  Runs  RBI  Walks  Years  CAtBat  CHits  CHmRun  CRuns  \\\n",
      "0    315    81      7    24   38     39     14    3449    835      69    321   \n",
      "1    479   130     18    66   72     76      3    1624    457      63    224   \n",
      "2    496   141     20    65   78     37     11    5628   1575     225    828   \n",
      "3    321    87     10    39   42     30      2     396    101      12     48   \n",
      "4    594   169      4    74   51     35     11    4408   1133      19    501   \n",
      "\n",
      "   CRBI  CWalks  PutOuts  Assists  Errors  Salary  \n",
      "0   414     375      632       43      10   475.0  \n",
      "1   266     263      880       82      14   480.0  \n",
      "2   838     354      200       11       3   500.0  \n",
      "3    46      33      805       40       4    91.5  \n",
      "4   336     194      282      421      25   750.0  \n"
     ]
    }
   ],
   "source": [
    "Data = pd.read_csv(\"Data_4.csv\")\n",
    "print(Data.head())"
   ]
  },
  {
   "cell_type": "markdown",
   "id": "57b35eac",
   "metadata": {},
   "source": [
    "我们可以了解这个数据集的样本量、特征维度等特征，如下："
   ]
  },
  {
   "cell_type": "code",
   "execution_count": 6,
   "id": "a397ac0f",
   "metadata": {},
   "outputs": [
    {
     "name": "stdout",
     "output_type": "stream",
     "text": [
      "The number of features is 16\n",
      "The sample size is 263\n"
     ]
    }
   ],
   "source": [
    "p = Data.shape[1]-1\n",
    "n = Data.shape[0]\n",
    "\n",
    "print(\"The number of features is\",p)\n",
    "print(\"The sample size is\",n)"
   ]
  },
  {
   "cell_type": "markdown",
   "id": "714db853",
   "metadata": {},
   "source": [
    "## 背景\n",
    "\n",
    "本次数据来自于1986年至1987年间美国职业棒球大联盟。这个数据记录了263名大联盟的选手所采集的收入数据及其历史棒球运动的表现。\n",
    "\n",
    "## 数据\n",
    "在本次数据中，共有17个变量（1个响应变量与16个自变量），具体如下表所示：\n",
    "\n",
    "<table width = c(100,800,700), center = True>\n",
    "    <tr>\n",
    "        <td> 变量名                  </td>\n",
    "        <td> 英文变量含义                 </td>\n",
    "        <td> 中文变量含义                 </td>\n",
    "    </tr>\n",
    "    <tr>\n",
    "        <td> AtBat                          </td>\n",
    "        <td> Number of times at bat in 1986 </td>\n",
    "        <td> 1986年间轮到击球的次数            </td>\n",
    "    </tr>\n",
    "    <tr>\n",
    "        <td> Hits                         </td>\n",
    "        <td> Number of hits in 1986       </td>\n",
    "        <td> 1986年间击中球的次数           </td>\n",
    "    </tr>\n",
    "    <tr>\n",
    "        <td> HmRun                         </td>\n",
    "        <td> Number of home runs in 1986   </td>\n",
    "        <td> 1986年间全垒打的次数             </td>\n",
    "    </tr>\n",
    "     <tr>\n",
    "        <td> Runs                              </td>\n",
    "        <td> Number of runs in 1986            </td>\n",
    "        <td> 1986年间得分的次数                   </td>\n",
    "    </tr>\n",
    "    <tr>\n",
    "        <td> RBI                               </td>\n",
    "        <td> Number of runs batted in in 1986  </td>\n",
    "        <td> 1986年间打者打点的次数                   </td>\n",
    "    </tr>\n",
    "    <tr>\n",
    "        <td> Walks                               </td>\n",
    "        <td> Number of walks in 1986  </td>\n",
    "        <td> 1986年间打击手被保送的次数                   </td>\n",
    "    </tr>\n",
    "    <tr>\n",
    "        <td> Years                               </td>\n",
    "        <td> Number of years in the major leagues  </td>\n",
    "        <td> 在大联盟的年限                  </td>\n",
    "    </tr>\n",
    "     <tr>\n",
    "        <td> CAtBat                               </td>\n",
    "        <td> Number of times at bat during his career  </td>\n",
    "        <td> 在其棒球职业生涯中轮到击球的次数                 </td>\n",
    "    </tr>\n",
    "    <tr>\n",
    "        <td> CHits                              </td>\n",
    "        <td> Number of hits during his career  </td>\n",
    "        <td> 在其棒球职业生涯中击中球的次数                 </td>\n",
    "    </tr>\n",
    "    <tr>\n",
    "        <td> CHmRun                              </td>\n",
    "        <td> Number of home runs during his career  </td>\n",
    "        <td> 在其棒球职业生涯中全垒打的次数                 </td>\n",
    "    </tr>\n",
    "    <tr>\n",
    "        <td> CRuns                              </td>\n",
    "        <td> Number of runs during his career  </td>\n",
    "        <td> 在其棒球职业生涯中得分的次数                 </td>\n",
    "    </tr>\n",
    "    <tr>\n",
    "        <td> CRBI                              </td>\n",
    "        <td> Number of runs batted in during his career  </td>\n",
    "        <td> 在其棒球职业生涯中打者打点的次数                 </td>\n",
    "    </tr>\n",
    "    <tr>\n",
    "        <td> CWalks                              </td>\n",
    "        <td> Number of walks during his career  </td>\n",
    "        <td> 在其棒球职业生涯中打击手被保送的次数                 </td>\n",
    "    </tr>\n",
    "    <tr>\n",
    "        <td> PutOuts                              </td>\n",
    "        <td> Number of put outs in 1986  </td>\n",
    "        <td> 在1986年间接杀的次数                 </td>\n",
    "    </tr>\n",
    "    <tr>\n",
    "        <td> Assists                             </td>\n",
    "        <td> Number of assists in 1986  </td>\n",
    "        <td> 在1986年间助杀的次数                 </td>\n",
    "    </tr>\n",
    "    <tr>\n",
    "        <td> Errors                            </td>\n",
    "        <td> Number of errors in 1986          </td>\n",
    "        <td> 在1986年间失误的次数                 </td>\n",
    "    </tr>\n",
    "    <tr>\n",
    "        <td> Salary                            </td>\n",
    "        <td> 1987 annual salary on opening day in thousands of dollars          </td>\n",
    "        <td> 在1987年开业时年薪（单位：千美元）         </td>\n",
    "    </tr>\n",
    "</table>"
   ]
  },
  {
   "cell_type": "markdown",
   "id": "533d68c1",
   "metadata": {},
   "source": [
    "## 任务\n",
    "\n",
    "本次实验中，我们需要解决以下问题：\n",
    "\n",
    "1. 这些特征是否存在多重共线性？如何判断？\n",
    "2. 如何利用岭回归改进模型？\n",
    "3. 岭回归估计是否比最小二乘估计更优？"
   ]
  },
  {
   "cell_type": "markdown",
   "id": "dcb02475",
   "metadata": {},
   "source": [
    "## 解决方案\n",
    "\n",
    "在正式分析这个问题之前，我们介绍一下数据分析的基础步骤。\n",
    "第一步：数据采集（问卷、爬虫、系统采集等方式）与数据清洗；\n",
    "第二步：数据预处理（缺失、异常等，划分训练集和测试（验证）集）；\n",
    "第三步：数据的探索性分析（计算简单的统计量、绘制基础图表）；\n",
    "第四步：构建模型（针对所提出的问题，利用模型来解决）；\n",
    "第五步：模型诊断（考虑所提出是否符合数据）；\n",
    "第六步：得出结论（根据数据分析结果给出合理且科学的决策）。\n",
    "\n",
    "在本次实验中，我们简化了前三步骤。在数据预处理中，需要划分训练集和测试集，常见的方法有：留出法（Hold-out）和$K$折交叉验证法（K-fold Cross Validation）。我们这里介绍留出法，具体如下："
   ]
  },
  {
   "cell_type": "markdown",
   "id": "898033d0",
   "metadata": {},
   "source": [
    "在留出法中，需要划分两个数据集——训练集和测试集。\n",
    "\n",
    "第一，需要确定两个数据集的样本量。通常按一定比例，如8:2。"
   ]
  },
  {
   "cell_type": "code",
   "execution_count": 13,
   "id": "49a574f7",
   "metadata": {},
   "outputs": [],
   "source": [
    "n_train = 210 # 80% instances used for training\n",
    "n_test = n-n_train"
   ]
  },
  {
   "cell_type": "markdown",
   "id": "344b2d6c",
   "metadata": {},
   "source": [
    "第二，在所有样本中随机选取。这里我们固定随机种子，优势是：这样的划分是相对确定性的，有利于在编程过程中反复验证结果是否正确。"
   ]
  },
  {
   "cell_type": "code",
   "execution_count": 14,
   "id": "228a9442",
   "metadata": {},
   "outputs": [],
   "source": [
    "seed = 1\n",
    "random.seed(seed)\n",
    "index = range(0,n)\n",
    "index_selected = random.sample(index,n_train)\n",
    "index_selected.sort()"
   ]
  },
  {
   "cell_type": "markdown",
   "id": "b059f9d7",
   "metadata": {},
   "source": [
    "第三，我们根据所确定的索引将数据划分为两个数据集。"
   ]
  },
  {
   "cell_type": "code",
   "execution_count": 15,
   "id": "3eea6df7",
   "metadata": {},
   "outputs": [],
   "source": [
    "Data_train = Data.loc[index_selected]\n",
    "Data_test = Data.drop(index = index_selected)"
   ]
  },
  {
   "cell_type": "markdown",
   "id": "6ccd6463",
   "metadata": {},
   "source": [
    "在数据预处理中，除了划分训练集和测试集之外，我们还需要根据模型重新构建数据类型。比如在回归模型中，将响应变量和特征拆分为两个部分，即"
   ]
  },
  {
   "cell_type": "code",
   "execution_count": 16,
   "id": "d823b408",
   "metadata": {},
   "outputs": [],
   "source": [
    "## Pre-processing\n",
    "X_train = Data_train.drop(columns = ['Salary'],axis = 1)\n",
    "Y_train = Data_train.Salary\n",
    "X_test = Data_test.drop(columns = [\"Salary\"],axis=1)\n",
    "Y_test = Data_test.Salary"
   ]
  },
  {
   "cell_type": "markdown",
   "id": "31a56045",
   "metadata": {},
   "source": [
    "在分析多重共线性时，我们需要将数据进行**标准化**。\n",
    "\n",
    "在数据$\\{(y_i,\\mathbf{x}_i):i=1,2,\\cdots,n\\}$，其中，$\\mathbf{x}_i = (x_{i1},x_{i2},\\cdots,x_{ip})'$，传统的标准化指的是\n",
    "$$\n",
    "x_{ij}^{\\ast} = \\frac{x_{ij}-\\bar{x}_j}{\\sqrt{\\frac{1}{n-1} \\sum_{i=1}^n (x_{ij} - \\bar{x}_j)^2}}\n",
    "$$\n",
    "注：这里分母中的方差通常用样本方差（即前面的系数为$(n-1)^{-1}$），也有使用总体方差（即前面的系数为$(n)^{-1}$）。在$n$很大时，分母上方差无明显差异。传统的标准化指的是：使得均值为0、方差为1。\n",
    "\n",
    "而在本实验中，我们所定义的**标准化**为\n",
    "$$\n",
    "x_{ij}^{\\ast} = \\frac{x_{ij}-\\bar{x}_j}{\\sqrt{\\sum_{i=1}^n (x_{ij} - \\bar{x}_j)^2}}\n",
    "$$\n",
    "这里与传统的标准化相差一个常数。"
   ]
  },
  {
   "cell_type": "code",
   "execution_count": 17,
   "id": "b03499d9",
   "metadata": {},
   "outputs": [],
   "source": [
    "X_train_standardized = preprocessing.scale(X_train, with_mean = True, with_std=True)/np.sqrt(n_train)\n",
    "Y_train_centered = preprocessing.scale(Y_train, with_mean = True, with_std=False)\n",
    "Y_train_mean = np.average(Y_train)\n",
    "X_test_standardized = preprocessing.scale(X_test, with_mean = True, with_std=True)/np.sqrt(n_test)"
   ]
  },
  {
   "cell_type": "markdown",
   "id": "ff73f33e",
   "metadata": {},
   "source": [
    "这里有一个问题值得注意：关于测试数据的标准化，对于测试数据而言，其标准化的方式仅仅只能利用可以观测到的数据，不能使用需要**未知**信息。在回归问题中，这样进行标准化是可行的，因为在测试集中特征是可观测到的，才能通过这些特征来进行预测，所以这种方法是可行的。如果是在时间序列等场景，一定需要注意，不要利用未来的信息做数据预处理，这样是不正确的。\n",
    "\n",
    "### Task 1: 多重共线性诊断\n",
    "\n",
    "我们首先跑一个线性回归模型，对结果进行分析。"
   ]
  },
  {
   "cell_type": "code",
   "execution_count": 18,
   "id": "5119c43f",
   "metadata": {},
   "outputs": [
    {
     "data": {
      "text/html": [
       "<table class=\"simpletable\">\n",
       "<caption>OLS Regression Results</caption>\n",
       "<tr>\n",
       "  <th>Dep. Variable:</th>         <td>Salary</td>      <th>  R-squared:         </th> <td>   0.591</td>\n",
       "</tr>\n",
       "<tr>\n",
       "  <th>Model:</th>                   <td>OLS</td>       <th>  Adj. R-squared:    </th> <td>   0.557</td>\n",
       "</tr>\n",
       "<tr>\n",
       "  <th>Method:</th>             <td>Least Squares</td>  <th>  F-statistic:       </th> <td>   17.42</td>\n",
       "</tr>\n",
       "<tr>\n",
       "  <th>Date:</th>             <td>Sun, 23 Oct 2022</td> <th>  Prob (F-statistic):</th> <td>1.88e-29</td>\n",
       "</tr>\n",
       "<tr>\n",
       "  <th>Time:</th>                 <td>02:09:40</td>     <th>  Log-Likelihood:    </th> <td> -1483.7</td>\n",
       "</tr>\n",
       "<tr>\n",
       "  <th>No. Observations:</th>      <td>   210</td>      <th>  AIC:               </th> <td>   3001.</td>\n",
       "</tr>\n",
       "<tr>\n",
       "  <th>Df Residuals:</th>          <td>   193</td>      <th>  BIC:               </th> <td>   3058.</td>\n",
       "</tr>\n",
       "<tr>\n",
       "  <th>Df Model:</th>              <td>    16</td>      <th>                     </th>     <td> </td>   \n",
       "</tr>\n",
       "<tr>\n",
       "  <th>Covariance Type:</th>      <td>nonrobust</td>    <th>                     </th>     <td> </td>   \n",
       "</tr>\n",
       "</table>\n",
       "<table class=\"simpletable\">\n",
       "<tr>\n",
       "     <td></td>        <th>coef</th>     <th>std err</th>      <th>t</th>      <th>P>|t|</th>  <th>[0.025</th>    <th>0.975]</th>  \n",
       "</tr>\n",
       "<tr>\n",
       "  <th>const</th>   <td>  184.2230</td> <td>   91.411</td> <td>    2.015</td> <td> 0.045</td> <td>    3.930</td> <td>  364.515</td>\n",
       "</tr>\n",
       "<tr>\n",
       "  <th>AtBat</th>   <td>   -2.5127</td> <td>    0.673</td> <td>   -3.732</td> <td> 0.000</td> <td>   -3.841</td> <td>   -1.185</td>\n",
       "</tr>\n",
       "<tr>\n",
       "  <th>Hits</th>    <td>   10.9852</td> <td>    2.545</td> <td>    4.317</td> <td> 0.000</td> <td>    5.967</td> <td>   16.004</td>\n",
       "</tr>\n",
       "<tr>\n",
       "  <th>HmRun</th>   <td>   -4.3432</td> <td>    6.662</td> <td>   -0.652</td> <td> 0.515</td> <td>  -17.483</td> <td>    8.796</td>\n",
       "</tr>\n",
       "<tr>\n",
       "  <th>Runs</th>    <td>   -5.0320</td> <td>    3.085</td> <td>   -1.631</td> <td> 0.104</td> <td>  -11.116</td> <td>    1.052</td>\n",
       "</tr>\n",
       "<tr>\n",
       "  <th>RBI</th>     <td>   -1.4118</td> <td>    2.666</td> <td>   -0.530</td> <td> 0.597</td> <td>   -6.670</td> <td>    3.846</td>\n",
       "</tr>\n",
       "<tr>\n",
       "  <th>Walks</th>   <td>    7.8608</td> <td>    1.929</td> <td>    4.075</td> <td> 0.000</td> <td>    4.056</td> <td>   11.665</td>\n",
       "</tr>\n",
       "<tr>\n",
       "  <th>Years</th>   <td>  -10.2313</td> <td>   13.991</td> <td>   -0.731</td> <td> 0.465</td> <td>  -37.826</td> <td>   17.364</td>\n",
       "</tr>\n",
       "<tr>\n",
       "  <th>CAtBat</th>  <td>   -0.0192</td> <td>    0.141</td> <td>   -0.136</td> <td> 0.892</td> <td>   -0.298</td> <td>    0.259</td>\n",
       "</tr>\n",
       "<tr>\n",
       "  <th>CHits</th>   <td>   -0.1728</td> <td>    0.688</td> <td>   -0.251</td> <td> 0.802</td> <td>   -1.530</td> <td>    1.184</td>\n",
       "</tr>\n",
       "<tr>\n",
       "  <th>CHmRun</th>  <td>    3.0831</td> <td>    1.862</td> <td>    1.656</td> <td> 0.099</td> <td>   -0.589</td> <td>    6.755</td>\n",
       "</tr>\n",
       "<tr>\n",
       "  <th>CRuns</th>   <td>    1.1291</td> <td>    0.781</td> <td>    1.445</td> <td> 0.150</td> <td>   -0.412</td> <td>    2.670</td>\n",
       "</tr>\n",
       "<tr>\n",
       "  <th>CRBI</th>    <td>    0.1071</td> <td>    0.766</td> <td>    0.140</td> <td> 0.889</td> <td>   -1.404</td> <td>    1.618</td>\n",
       "</tr>\n",
       "<tr>\n",
       "  <th>CWalks</th>  <td>   -0.7261</td> <td>    0.349</td> <td>   -2.081</td> <td> 0.039</td> <td>   -1.414</td> <td>   -0.038</td>\n",
       "</tr>\n",
       "<tr>\n",
       "  <th>PutOuts</th> <td>    0.1723</td> <td>    0.082</td> <td>    2.098</td> <td> 0.037</td> <td>    0.010</td> <td>    0.334</td>\n",
       "</tr>\n",
       "<tr>\n",
       "  <th>Assists</th> <td>    0.4055</td> <td>    0.225</td> <td>    1.803</td> <td> 0.073</td> <td>   -0.038</td> <td>    0.849</td>\n",
       "</tr>\n",
       "<tr>\n",
       "  <th>Errors</th>  <td>   -4.4775</td> <td>    4.427</td> <td>   -1.011</td> <td> 0.313</td> <td>  -13.208</td> <td>    4.253</td>\n",
       "</tr>\n",
       "</table>\n",
       "<table class=\"simpletable\">\n",
       "<tr>\n",
       "  <th>Omnibus:</th>       <td>113.886</td> <th>  Durbin-Watson:     </th> <td>   1.875</td> \n",
       "</tr>\n",
       "<tr>\n",
       "  <th>Prob(Omnibus):</th> <td> 0.000</td>  <th>  Jarque-Bera (JB):  </th> <td> 966.375</td> \n",
       "</tr>\n",
       "<tr>\n",
       "  <th>Skew:</th>          <td> 1.909</td>  <th>  Prob(JB):          </th> <td>1.43e-210</td>\n",
       "</tr>\n",
       "<tr>\n",
       "  <th>Kurtosis:</th>      <td>12.791</td>  <th>  Cond. No.          </th> <td>1.67e+04</td> \n",
       "</tr>\n",
       "</table><br/><br/>Notes:<br/>[1] Standard Errors assume that the covariance matrix of the errors is correctly specified.<br/>[2] The condition number is large, 1.67e+04. This might indicate that there are<br/>strong multicollinearity or other numerical problems."
      ],
      "text/plain": [
       "<class 'statsmodels.iolib.summary.Summary'>\n",
       "\"\"\"\n",
       "                            OLS Regression Results                            \n",
       "==============================================================================\n",
       "Dep. Variable:                 Salary   R-squared:                       0.591\n",
       "Model:                            OLS   Adj. R-squared:                  0.557\n",
       "Method:                 Least Squares   F-statistic:                     17.42\n",
       "Date:                Sun, 23 Oct 2022   Prob (F-statistic):           1.88e-29\n",
       "Time:                        02:09:40   Log-Likelihood:                -1483.7\n",
       "No. Observations:                 210   AIC:                             3001.\n",
       "Df Residuals:                     193   BIC:                             3058.\n",
       "Df Model:                          16                                         \n",
       "Covariance Type:            nonrobust                                         \n",
       "==============================================================================\n",
       "                 coef    std err          t      P>|t|      [0.025      0.975]\n",
       "------------------------------------------------------------------------------\n",
       "const        184.2230     91.411      2.015      0.045       3.930     364.515\n",
       "AtBat         -2.5127      0.673     -3.732      0.000      -3.841      -1.185\n",
       "Hits          10.9852      2.545      4.317      0.000       5.967      16.004\n",
       "HmRun         -4.3432      6.662     -0.652      0.515     -17.483       8.796\n",
       "Runs          -5.0320      3.085     -1.631      0.104     -11.116       1.052\n",
       "RBI           -1.4118      2.666     -0.530      0.597      -6.670       3.846\n",
       "Walks          7.8608      1.929      4.075      0.000       4.056      11.665\n",
       "Years        -10.2313     13.991     -0.731      0.465     -37.826      17.364\n",
       "CAtBat        -0.0192      0.141     -0.136      0.892      -0.298       0.259\n",
       "CHits         -0.1728      0.688     -0.251      0.802      -1.530       1.184\n",
       "CHmRun         3.0831      1.862      1.656      0.099      -0.589       6.755\n",
       "CRuns          1.1291      0.781      1.445      0.150      -0.412       2.670\n",
       "CRBI           0.1071      0.766      0.140      0.889      -1.404       1.618\n",
       "CWalks        -0.7261      0.349     -2.081      0.039      -1.414      -0.038\n",
       "PutOuts        0.1723      0.082      2.098      0.037       0.010       0.334\n",
       "Assists        0.4055      0.225      1.803      0.073      -0.038       0.849\n",
       "Errors        -4.4775      4.427     -1.011      0.313     -13.208       4.253\n",
       "==============================================================================\n",
       "Omnibus:                      113.886   Durbin-Watson:                   1.875\n",
       "Prob(Omnibus):                  0.000   Jarque-Bera (JB):              966.375\n",
       "Skew:                           1.909   Prob(JB):                    1.43e-210\n",
       "Kurtosis:                      12.791   Cond. No.                     1.67e+04\n",
       "==============================================================================\n",
       "\n",
       "Notes:\n",
       "[1] Standard Errors assume that the covariance matrix of the errors is correctly specified.\n",
       "[2] The condition number is large, 1.67e+04. This might indicate that there are\n",
       "strong multicollinearity or other numerical problems.\n",
       "\"\"\""
      ]
     },
     "execution_count": 18,
     "metadata": {},
     "output_type": "execute_result"
    }
   ],
   "source": [
    "X_train_withintercept = sm.add_constant(X_train)\n",
    "model = sm.OLS(Y_train,X_train_withintercept).fit()\n",
    "model.summary()"
   ]
  },
  {
   "cell_type": "markdown",
   "id": "d371ea11",
   "metadata": {},
   "source": [
    "从两个方面可以发现：\n",
    "1. 参数估计的$t$检验中，大部分都是不显著的。虽然参数估计的取值很大，但检验结果却不显著。\n",
    "2. 在线性回归模型中，输出了第二句话：The condition number is large, 1.67e+04. This might indicate that there are strong multicollinearity or other numerical problems. 这表明可能存在多重共线性或其他问题。\n",
    "\n",
    "接下来，我们一般在数据探索性分析中能够初步判断数据是否出现多重贡献性，即关注特征之间是否存在高相关性。"
   ]
  },
  {
   "cell_type": "code",
   "execution_count": 19,
   "id": "a352f062",
   "metadata": {},
   "outputs": [
    {
     "data": {
      "text/plain": [
       "<AxesSubplot:>"
      ]
     },
     "execution_count": 19,
     "metadata": {},
     "output_type": "execute_result"
    },
    {
     "data": {
      "image/png": "[encoded data removed]",
      "text/plain": [
       "<Figure size 432x288 with 2 Axes>"
      ]
     },
     "metadata": {
      "needs_background": "light"
     },
     "output_type": "display_data"
    }
   ],
   "source": [
    "pcorr = X_train.corr(method = 'pearson')\n",
    "tick_ = (np.arange(0,13,2)-2)/10\n",
    "dict_ = {\"orientation\":'vertical',\n",
    "         'label':'Correlation Coefficients',\n",
    "         \"drawedges\":False,\n",
    "         \"ticklocation\":\"top\",\n",
    "         \"extend\":\"min\",\n",
    "        \"filled\":True,\n",
    "         \"alpha\":0.8,\n",
    "         \"cmap\":\"cmap\",\n",
    "         \"ticks\":tick_}\n",
    "sns.heatmap(pcorr,cbar_kws= dict_,center=0)"
   ]
  },
  {
   "cell_type": "markdown",
   "id": "9b70392e",
   "metadata": {},
   "source": [
    "仅仅考察特征之间的相关性无法准确判断数据是否出现多重共线性的。一般而言，我们有两种数值上的方法来诊断数据是否存在多重共线性。\n",
    "\n",
    "#### 方差扩大因子法（VIF）\n",
    "\n",
    "假定特征数据已经经过标准化，现数据有\n",
    "$$\n",
    "X = \\begin{pmatrix}\n",
    "x_{11} & x_{12} & \\cdots & x_{1p}\\\\\n",
    "x_{21} & x_{22} & \\cdots & x_{2p}\\\\\n",
    "\\vdots & \\vdots &  & \\vdots \\\\\n",
    "x_{n1} & x_{n2} & \\cdots & x_{np}\\\\\n",
    "\\end{pmatrix}\n",
    "$$\n",
    "\n",
    "方差扩大因子指的是$(X'X)^{-1}$的对角线元素。"
   ]
  },
  {
   "cell_type": "code",
   "execution_count": 27,
   "id": "fd2d3c83",
   "metadata": {},
   "outputs": [
    {
     "name": "stdout",
     "output_type": "stream",
     "text": [
      "The VIF's are [ 22.91  30.81   8.11  14.14  11.67   3.92   9.59 242.45 474.68  45.5\n",
      " 154.87 133.93  17.44   1.28   2.65   2.13]\n",
      "The VIF's are [ 22.91  30.81   8.11  14.14  11.67   3.92   9.59 242.45 474.68  45.5\n",
      " 154.87 133.93  17.44   1.28   2.65   2.13]\n",
      "The VIF's are 22.91\n"
     ]
    }
   ],
   "source": [
    "# Method One\n",
    "C = np.linalg.inv(np.dot(X_train_standardized.T,X_train_standardized))\n",
    "VIF_1 = np.diag(C)\n",
    "print(\"The VIF's are\", np.round(VIF_1,2))\n",
    "\n",
    "# Method Two\n",
    "VIF_2 = [variance_inflation_factor(X_train_standardized[:,0:p], i) for i in range(p)]\n",
    "print(\"The VIF's are\", np.round(VIF_2,2))\n",
    "\n",
    "# Method Three\n",
    "X_1 = X_train_standardized[:,0]\n",
    "X_others = X_train_standardized[:,1:p]\n",
    "model_vif = sm.OLS(X_1,X_others).fit()\n",
    "X_1_VIF = 1/(1-model_vif.rsquared)\n",
    "print(\"The VIF's are\", np.round(X_1_VIF,2))\n"
   ]
  },
  {
   "cell_type": "markdown",
   "id": "98ba6ac5",
   "metadata": {},
   "source": [
    "注意到，方法一中给出的结果是根据定义给出的。但是，问题是：为什么方差扩大因子能够度量特征存在多重共线性？\n",
    "\n",
    "举例来说，以$x_j$作为响应变量，其他特征$x_1,x_2,\\cdots,x_{j-1},x_{j+1},\\cdots,x_{p}$作为自变量，构建线性回归模型即\n",
    "$$\n",
    "x_j = \\alpha_0 + \\alpha_1 x_1 \\alpha_2 x_2 + \\cdots \\alpha_{j-1}x_{j-1} + \\alpha_{j+1}x_{j+1} + \\cdots + \\alpha_p x_p +\\epsilon\n",
    "$$\n",
    "\n",
    "如果这个特征能够被其他特征近似看作其他特征的线性组合，那么我们称这个现象为**多重共线性**。基于这个想法，如果上述回归模型的决定系数$R^2$很接近于1，那么这个特征很有可能看作其他特征的线性组合。因此，多重共线性VIF还有一种计算方法，即\n",
    "$$\n",
    "\\text{VIF}_j = \\frac{1}{1-R_j^2} \n",
    "$$\n",
    "\n",
    "方差扩大因子的评价方式：如果方差扩大因子越大，那么可以认为多重共线性的线性约严重。通常临界值取5、10、100等，可以根据样本量来确定。"
   ]
  },
  {
   "cell_type": "code",
   "execution_count": 28,
   "id": "40cafebe",
   "metadata": {},
   "outputs": [],
   "source": [
    "vif_cv = 5 # The criterion value of VIF"
   ]
  },
  {
   "cell_type": "markdown",
   "id": "3730bc50",
   "metadata": {},
   "source": [
    "因为我们发现通常在构建一个ols模型之后，我们需要提取一些其重要的数值、向量或矩阵，这里我们梳理一下常用的参数。"
   ]
  },
  {
   "cell_type": "code",
   "execution_count": 29,
   "id": "0929fcbc",
   "metadata": {},
   "outputs": [],
   "source": [
    "## 补充内容：\n",
    "#model_vif.summary()\n",
    "## 建模类\n",
    "#model_vif.params # 回归系数(向量，p)\n",
    "#model_vif.bse # 回归系数的标准误\n",
    "#model_vif.tvalues # 回归系数的t统计量（向量，p）\n",
    "#model_vif.pvalues # 回归系数的t检验对应的p值（向量，p）\n",
    "#model_vif.fittedvalues # 回归模型的拟合值（向量，n）\n",
    "#model_vif.resid # 回归模型的残差（向量，n）\n",
    "\n",
    "## 评价类\n",
    "#model_vif.fvalue # 回归模型的F检验统计量\n",
    "#model_vif.f_pvalue # 回归模型的F检验对应的p值\n",
    "#model_vif.rsquared # 回归模型的决定系数R2\n",
    "#model_vif.rsquared_adj # 回归模型修正后的决定系数 Adj. R2\n",
    "#model_vif.ess # 回归平方和\n",
    "#model_vif.ssr # 残差平方和\n",
    "#model_vif.aic # AIC\n",
    "#model_vif.bic # BIC\n"
   ]
  },
  {
   "cell_type": "markdown",
   "id": "ef52a48a",
   "metadata": {},
   "source": [
    "#### 特征值法\n",
    "\n",
    "在多重共线性的根本问题中，可以发现$X'X$的行列式接近于零，但并不为零。由于$X'X$是实对称矩阵，根据线性代数的知识，$X'X$是可以进行特征值分解的，即\n",
    "$$\n",
    "(X'X)\\mathbf{v}_i = \\lambda_i\\mathbf{v}_i, i=1,2,\\cdots,p.\n",
    "$$\n",
    "其中，$\\lambda_1\\geq \\lambda_2 \\geq \\cdots \\geq \\lambda_p$。因此，\n",
    "$$\n",
    "|X'X| = \\prod_{i=1}^p \\lambda_i\n",
    "$$\n",
    "\n",
    "基于此，我们定义其条件数来进行判断数据是否具有多重共线性，即\n",
    "$$\n",
    "\\kappa_i = \\sqrt{\\lambda_1/\\lambda_i}, i=1,2,\\cdots,p.\n",
    "$$\n",
    "如果 $\\kappa_p$ 越大，那么可以认为数据有存在多重共线性的可能性。条件数的判断临界值为10、100及1000等。"
   ]
  },
  {
   "cell_type": "code",
   "execution_count": 30,
   "id": "ea59cb7f",
   "metadata": {},
   "outputs": [
    {
     "name": "stdout",
     "output_type": "stream",
     "text": [
      "The eigen values are [7.2985e+00 3.9851e+00 1.7352e+00 9.1210e-01 6.8070e-01 5.5120e-01\n",
      " 2.6490e-01 1.8050e-01 1.2800e-01 1.0050e-01 6.0000e-02 5.3300e-02\n",
      " 2.8200e-02 1.6100e-02 4.4000e-03 1.3000e-03]\n",
      "The condition number is 75.7146\n",
      "The condition number is 75.7146\n"
     ]
    }
   ],
   "source": [
    "## Method One：\n",
    "R = np.dot(X_train_standardized.T,X_train_standardized)\n",
    "W, V = np.linalg.eig(R)\n",
    "W = -1* np.sort(-1*W)\n",
    "W_diag = np.diag(W)\n",
    "V = V.T\n",
    "print(\"The eigen values are\", np.round(W,4))\n",
    "\n",
    "Condition_Number = np.sqrt(np.max(W)/np.min(W))\n",
    "print(\"The condition number is\",np.round(Condition_Number,4))\n",
    "\n",
    "## Method Two：\n",
    "model_ols = sm.OLS(Y_train_centered,X_train_standardized).fit()\n",
    "print(\"The condition number is\",round(model_ols.condition_number,4))"
   ]
  },
  {
   "cell_type": "markdown",
   "id": "be00c265",
   "metadata": {},
   "source": [
    "### Task 2: 岭回归\n",
    "\n",
    "这里我们介绍在线性回归模型中增加了惩罚项。在岭回归中，我们需要得到解的结构是\n",
    "$$\n",
    "\\hat{\\mathbf{\\beta}} = (X'X+kI)^{-1}X'\\mathbf{y}\n",
    "$$\n",
    "是以下最优化问题\n",
    "$$\n",
    "\\min (\\mathbf{y} - X\\mathbf{\\beta})'(\\mathbf{y} - X\\mathbf{\\beta}) \\quad \\text{s.t.}  \\quad \\mathbf{\\beta}'\\mathbf{\\beta}\\leq s\n",
    "$$\n",
    "的解。\n",
    "\n",
    "在Python中，我们可以用不同的包来解决这个问题。我们仍采用statsmodels.api这个包来拟合岭回归模型。在这个包中，不是单一地处理岭回归估计问题，而是处理Elastic Net的问题。在Elastic Net中，最优化问题是\n",
    "$$\n",
    "0.5* RSS/n +alpha *((1-L1_wt)*|params|_2^2/2 + L1_wt * |params|_1)\n",
    "$$\n",
    "其中，\n",
    "- RSS：原本的偏差平方和；\n",
    "- n：样本量；\n",
    "- $|\\cdot|_1,|\\cdot|_2$：$L_1$和$L_2$范数。\n",
    "\n",
    "【课堂问题】这里$\\alpha$与$k$之间的关系是什么？"
   ]
  },
  {
   "cell_type": "code",
   "execution_count": 32,
   "id": "e21b9512",
   "metadata": {},
   "outputs": [
    {
     "name": "stdout",
     "output_type": "stream",
     "text": [
      "The parameters in the ridge regression are  [ 84.07  97.4   62.58  87.16  87.79 113.32 100.7  128.48 132.56 146.93\n",
      " 137.78 145.26 124.65  51.17   7.34  -7.15]\n",
      "The parameters in the ridge regression are  [ 84.07  97.4   62.58  87.16  87.79 113.32 100.7  128.48 132.56 146.93\n",
      " 137.78 145.26 124.65  51.17   7.34  -7.15]\n"
     ]
    }
   ],
   "source": [
    "## Ridge Regression\n",
    "alpha  = 0.1 # A hyperparameter in Ridge Regression (equivalently but not equally, k in slides)\n",
    "model_rr = sm.OLS(Y_train_centered,X_train_standardized).fit_regularized(L1_wt=0,alpha = alpha)\n",
    "print(\"The parameters in the ridge regression are \",np.round(model_rr.params,2))\n",
    "\n",
    "k = alpha * n_train # The relation between alpha and k\n",
    "print(\"The parameters in the ridge regression are \", np.around(np.linalg.inv(X_train_standardized.T @ X_train_standardized + k * np.eye(p)) @ X_train_standardized.T @ Y_train_centered,2))\n",
    "\n",
    "\n"
   ]
  },
  {
   "cell_type": "markdown",
   "id": "562cc8d3",
   "metadata": {},
   "source": [
    "如何选择最优的岭参数（超参数）？这里我们介绍一种方法，通过关注方差扩大因子是否减小到临界值的范围内，从而来确定我们的模型。"
   ]
  },
  {
   "cell_type": "code",
   "execution_count": 33,
   "id": "86f432ba",
   "metadata": {},
   "outputs": [],
   "source": [
    "alpha_num = 100\n",
    "alpha_vec = np.array(list(range(0,alpha_num)))/alpha_num/1000\n",
    "RR_coef = []\n",
    "RR_vif = []\n",
    "\n",
    "for alpha in alpha_vec:\n",
    "    rr_model = sm.OLS(Y_train_centered,X_train_standardized).fit_regularized(L1_wt=0,alpha = alpha)\n",
    "    rr_coef = rr_model.params\n",
    "    RR_coef.append(rr_coef)\n",
    "    "
   ]
  },
  {
   "cell_type": "markdown",
   "id": "a4dfe17f",
   "metadata": {},
   "source": [
    "这里我们可以绘制岭迹图，如下图。"
   ]
  },
  {
   "cell_type": "code",
   "execution_count": 34,
   "id": "22365e5c",
   "metadata": {},
   "outputs": [
    {
     "data": {
      "text/plain": [
       "<matplotlib.legend.Legend at 0x7fbfea4900d0>"
      ]
     },
     "execution_count": 34,
     "metadata": {},
     "output_type": "execute_result"
    },
    {
     "data": {
      "image/png": "[encoded data removed]",
      "text/plain": [
       "<Figure size 432x288 with 1 Axes>"
      ]
     },
     "metadata": {
      "needs_background": "light"
     },
     "output_type": "display_data"
    }
   ],
   "source": [
    "for i in range(p):\n",
    "    plt.plot(alpha_vec, np.array(RR_coef)[:,i],label = \"X%d\"%(i+1))\n",
    "\n",
    "plt.axis([-0.00005,0.0008,-6000,8000])    \n",
    "plt.legend(loc=\"right\",bbox_to_anchor=(1.25,0.5),borderaxespad=1)\n"
   ]
  },
  {
   "cell_type": "markdown",
   "id": "69ddefb7",
   "metadata": {},
   "source": [
    "通过上图，我们可以发现：\n",
    "1. 随着k不断的增加，岭回归估计越来越接近于零；\n",
    "2. 随着k不断增加，岭回归估计的符号会变化；\n",
    "3. 从岭迹图中，我们选择趋于平稳的点。\n",
    "\n",
    "这里我们通过计算岭估计对应的方差扩大因子。在岭回归中，方差扩大因子为\n",
    "$$\n",
    "C(k) = (X'X + kI)^{-1} X'X (X'X + kI)^{-1} .\n",
    "$$\n",
    "直到方差扩大因子不大于临界值。"
   ]
  },
  {
   "cell_type": "code",
   "execution_count": 35,
   "id": "1e2ee467",
   "metadata": {},
   "outputs": [
    {
     "name": "stdout",
     "output_type": "stream",
     "text": [
      "The chosen value of alpha is 0.0001\n"
     ]
    }
   ],
   "source": [
    "C_k = []\n",
    "for alpha in alpha_vec:\n",
    "    k = alpha * n_train\n",
    "    c_k = np.linalg.inv(X_train_standardized.T @ X_train_standardized + k * np.eye(p)) @ X_train_standardized.T @ X_train_standardized @ np.linalg.inv(X_train_standardized.T @ X_train_standardized + k * np.eye(p))\n",
    "    C_k.append(np.mean(np.diag(c_k)))\n",
    "\n",
    "alpha_best = alpha_vec[np.min(np.where(np.array(C_k) < vif_cv))]\n",
    "print(\"The chosen value of alpha is\", alpha_best)"
   ]
  },
  {
   "cell_type": "markdown",
   "id": "25840479",
   "metadata": {},
   "source": [
    "### Task 3: 比较岭回归估计与最小二乘估计\n",
    "\n",
    "这里我们采用测试集的RMSE来比较两种估计方法的优劣。"
   ]
  },
  {
   "cell_type": "code",
   "execution_count": 331,
   "id": "547d8028",
   "metadata": {},
   "outputs": [
    {
     "name": "stdout",
     "output_type": "stream",
     "text": [
      "The RMSE in the ridge regression is 566.0067\n",
      "The RMSE in the ordinary regression is 591.1203\n"
     ]
    }
   ],
   "source": [
    "model_rr_best = sm.OLS(Y_train_centered,X_train_standardized).fit_regularized(L1_wt=0,alpha = alpha_best)\n",
    "model_rr_best_coef = model_rr_best.params\n",
    "\n",
    "Y_pred_rr = Y_train_mean + X_test_standardized @ model_rr_best_coef\n",
    "rr_rmse = np.sqrt(np.mean((Y_pred_rr-Y_test)**2))\n",
    "\n",
    "model_ols_coef = model_ols.params \n",
    "Y_pred_ols = Y_train_mean + X_test_standardized @ model_ols_coef\n",
    "ols_rmse = np.sqrt(np.mean((Y_pred_ols-Y_test)**2))\n",
    "\n",
    "print(\"The RMSE in the ridge regression is\", round(rr_rmse,4))\n",
    "print(\"The RMSE in the ordinary regression is\", round(ols_rmse,4))\n",
    "\n"
   ]
  }
 ],
 "metadata": {
  "kernelspec": {
   "display_name": "Python 3 (ipykernel)",
   "language": "python",
   "name": "python3"
  },
  "language_info": {
   "codemirror_mode": {
    "name": "ipython",
    "version": 3
   },
   "file_extension": ".py",
   "mimetype": "text/x-python",
   "name": "python",
   "nbconvert_exporter": "python",
   "pygments_lexer": "ipython3",
   "version": "3.8.5"
  }
 },
 "nbformat": 4,
 "nbformat_minor": 5
}
